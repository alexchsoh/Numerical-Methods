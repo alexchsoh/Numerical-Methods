{
 "cells": [
  {
   "cell_type": "markdown",
   "id": "8c9ab622-46d6-4347-aae1-0158d1962d26",
   "metadata": {},
   "source": [
    "* Present a  Fourier Pseudospectral code for solving the 2D acoustic wave equation\n",
    "* Compute the same using using finite difference scheme \n",
    "* Analyze the disperion behaviour in each case "
   ]
  },
  {
   "cell_type": "markdown",
   "id": "3ea1dc11-4870-4875-99d9-a0ec7751dfd0",
   "metadata": {},
   "source": [
    "## Basic Equations\n",
    "This notebook presents a Fourier Pseudospectral code for solving the 2D acoustic wave equation. Additionally, a solution using finite difference scheme is given for comparison.\n",
    "\n",
    "The problem of solving the wave equation\n",
    "\n",
    "\\begin{equation}\n",
    "\\partial_t^2 p = c^2 (\\partial_{x}^{2}p + \\partial_{z}^{2}p) + s\n",
    "\\end{equation}\n",
    "\n",
    "can be achieved using finite differeces in combination with spectral methods. Here, spatial partial derivatives with respect to $x$ and $z$ are computed via the Fourier method, i.e. \n",
    "\n",
    "\\begin{equation}\n",
    "\\partial_{x}^{2}p + \\partial_{z}^{2}p = \\mathscr{F}^{-1}[-k_{x}^{2}\\mathscr{F}[p]] + \\mathscr{F}^{-1}[-k_{z}^{2}\\mathscr{F}[p]]\n",
    "\\end{equation}\n",
    "\n",
    "where $\\mathscr{F}$ represents the Fourier transform operator.\n",
    "\n",
    "As it was the case in previous numerical solutions, we use a standard 3-point finite-difference operator to approximate the time derivatives. Then, the pressure field is extrapolated as\n",
    "\n",
    "\\begin{equation}\n",
    "\\frac{p_{j,k}^{n+1} - 2p_{j,k}^{n} + p_{j,k}^{n-1}}{dt^2}= c_{j,k}^{2} (\\partial_{x}^{2}p + \\partial_{z}^{2}p)_{j,k} + s_{j,k}^{n}\n",
    "\\end{equation}"
   ]
  },
  {
   "cell_type": "code",
   "execution_count": 1,
   "id": "5430cf74-69ae-46de-a199-a1785b4f09bf",
   "metadata": {},
   "outputs": [],
   "source": [
    "import numpy as np\n",
    "import matplotlib\n",
    "# Show Plot in The Notebook\n",
    "# matplotlib.use(\"nbagg\")\n",
    "import matplotlib.pyplot as plt\n",
    "from ricker import ricker"
   ]
  },
  {
   "cell_type": "markdown",
   "id": "9f44a22e-42bd-4934-90fe-cc141693ac4e",
   "metadata": {},
   "source": [
    "### 1. Fourier derivative method  "
   ]
  },
  {
   "cell_type": "code",
   "execution_count": 2,
   "id": "b3314276-3381-415d-96ad-ac8b665b54a7",
   "metadata": {},
   "outputs": [],
   "source": [
    "def fourier_derivative_2nd(f, dx):\n",
    "    # Length of vector f\n",
    "    nx = np.size(f)\n",
    "    # Initialize k vector up to Nyquist wavenumber \n",
    "    kmax = np.pi / dx\n",
    "    dk = kmax / (nx / 2)\n",
    "    k = np.arange(float(nx))\n",
    "    k[: int(nx/2)] = k[: int(nx/2)] * dk \n",
    "    k[int(nx/2) :] = k[: int(nx/2)] - kmax\n",
    "    \n",
    "    # Fourier derivative\n",
    "    ff = np.fft.fft(f)\n",
    "    ff = (1j*k)**2 * ff\n",
    "    df_num = np.real(np.fft.ifft(ff))\n",
    "    return df_num"
   ]
  },
  {
   "cell_type": "markdown",
   "id": "0b675d60-9a99-4ff3-8754-2c0602578f0e",
   "metadata": {},
   "source": [
    "### 2. Initialization of setup"
   ]
  },
  {
   "cell_type": "code",
   "execution_count": 3,
   "id": "fec795d3-5d71-4fdd-a9c1-2f25b45f196c",
   "metadata": {},
   "outputs": [],
   "source": [
    "# Basic parameters\n",
    "# ---------------------------------------------------------------\n",
    "nt    = 600     # number of time steps\n",
    "nx    = 256     # number of grid points in x \n",
    "nz    = nx      # number of grid points in z\n",
    "c     = 343.    # acoustic velocity\n",
    "eps   = .2      # stability limit\n",
    "isnap = 600     # snapshot frequency\n",
    "isx   = int(nx/2)   # source location\n",
    "isz   = int(nz/2)\n",
    "f0    = 200.    # Frequency (div by 5)\n",
    "xmax  = 200\n",
    "iplot = 20\n",
    "\n",
    "# initialization of pressure fields\n",
    "ap = np.zeros((nx, nz), dtype=float)\n",
    "apnew = np.zeros((nx, nz), dtype=float)\n",
    "apold = np.zeros((nx, nz), dtype=float)\n",
    "ad2px = np.zeros((nx, nz), dtype=float)\n",
    "ad2pz = np.zeros((nx, nz), dtype=float) \n",
    " \n",
    "sp = np.zeros((nx, nz), dtype= float)\n",
    "spnew = np.zeros((nx, nz), dtype=float)\n",
    "spold = np.zeros((nx, nz), dtype=float)\n",
    "sd2px = np.zeros((nx, nz), dtype=float)\n",
    "sd2pz = np.zeros((nx, nz), dtype=float); \n",
    "\n",
    "sp_sec = -np.abs(sp[1:int(nx/2), 1:int(nz/2)])\n",
    "ap_sec = -np.abs(ap[int(nx/2):nx, 1:int(nz/2)].T)\n",
    "\n",
    "dx = xmax/(nx-1)  # calculate space increment\n",
    "x  = np.arange(0, nx)*dx # initialize space coordinates\n",
    "z  = np.arange(0, nx)*dx # initialize space coordinates\n",
    "dt = eps*dx/c # calculate tim step from stability criterion"
   ]
  },
  {
   "cell_type": "markdown",
   "id": "7752789c-28d0-4f9f-abfe-640af3d99524",
   "metadata": {},
   "source": [
    "### 3. Source Initialization "
   ]
  },
  {
   "cell_type": "code",
   "execution_count": 4,
   "id": "7ed2fd00-5654-4d6b-805c-7f252f249c71",
   "metadata": {},
   "outputs": [
    {
     "name": "stderr",
     "output_type": "stream",
     "text": [
      "/Library/Frameworks/Python.framework/Versions/3.12/lib/python3.12/site-packages/ricker/ricker.py:36: UserWarning: The peak location is outside the signal range. All zero output will be provided.\n",
      "  warnings.warn(\"The peak location is outside the signal range. All \"\n"
     ]
    }
   ],
   "source": [
    "# source time function\n",
    "# ---------------------------------------------------------------\n",
    "t   = np.arange(1, nt+1)*dt  # initialize time axis\n",
    "T0  = 1./f0\n",
    "tmp = ricker(dt, T0)\n",
    "tmp = np.diff(tmp)\n",
    "src = np.zeros(nt)\n",
    "src[0:np.size(tmp)] = tmp\n",
    "lam = c*T0\n",
    "\n",
    "# spatial source function\n",
    "# ---------------------------------------------------------------\n",
    "sg = np.zeros((nx, nz), dtype= float)\n",
    "sigma = 1.5*dx\n",
    "x0 = x[isx-1] \n",
    "z0 = z[isz-1] \n",
    "for i in range(nx):\n",
    "    for j in range(nz):\n",
    "        sg[i,j] = np.exp(-1/sigma**2 * ((x[i]-x0)**2 +(z[j]-z0)**2))\n",
    "        \n",
    "sg = sg/np.amax(sg)"
   ]
  },
  {
   "cell_type": "markdown",
   "id": "2d6efa5e-aafb-44f7-8677-c8d0406c7f30",
   "metadata": {},
   "source": [
    "### 4. Time Extrapolation\n",
    "The final solution for our 2D acoustic wave problem after taking into account the finite differences time extrapolation can be written as \n",
    "\n",
    "\\begin{equation}\n",
    "p_{j,k}^{n+1} = dt^2c_{j,k}^{2} (\\partial_{x}^{2}p + \\partial_{z}^{2}p)_{j,k} + dt^2s_{j,k}^{n} + 2p_{j,k}^{n} - p_{j,k}^{n-1}\n",
    "\\end{equation}\n",
    "\n",
    "In order to compare the above numerical solution, we implement a 5-point finite difference operator to compute spatial derivatives\n",
    "\n",
    "\\begin{equation}\n",
    "\\partial_t^2 p(x,t) = \\frac{-p(x,t+2\\mathrm{d}t) + 16p(x,t+\\mathrm{d}t) - 30p(x,t) + 16p(x,t-\\mathrm{d}t) - p(x,t-2\\mathrm{d}t)}{12\\mathrm{d}t^2} \n",
    "\\end{equation}\n",
    "\n",
    "temporal derivative is done with a 3-point finite difference operator.\n",
    "\n",
    "#### Numerical dispersion and anysotropy\n",
    "\n",
    "One of the most significant characteristics of the fourier method is the low numerical dispersion in comparison with the finite difference method. The snapshots displayed below for both solutions allow us to brifly comment two significant observations:\n",
    "\n",
    "1) There is strong anisotropic dispersion behaviour visible for the finite-difference solution. The most accurate direction occur at $\\theta = \\pi/4$ \n",
    "\n",
    "2) The Fourier solution do not exhibit significant dispersion, but the most importantly, it does not seem to be directionally dependent. In other words the error is isotropic. "
   ]
  },
  {
   "cell_type": "code",
   "execution_count": 5,
   "id": "8c36a45e-895e-4f60-87e1-26d5381021a6",
   "metadata": {},
   "outputs": [
    {
     "data": {
      "image/png": "[encoded data removed]",
      "text/plain": [
       "<Figure size 1000x600 with 2 Axes>"
      ]
     },
     "metadata": {},
     "output_type": "display_data"
    }
   ],
   "source": [
    "# Initialize animated plot\n",
    "# ---------------------------------------------------------------\n",
    "fig = plt.figure(figsize=(10,6))\n",
    "ax1 = fig.add_subplot(1,2,1)\n",
    "ax2 = fig.add_subplot(1,2,2)\n",
    "line1 = ax1.imshow(sp_sec, interpolation=\"bicubic\", cmap=plt.cm.RdBu)\n",
    "line2 = ax2.imshow(ap_sec, interpolation=\"bicubic\", cmap=plt.cm.RdBu)\n",
    "ax1.set_title('Fourier Method', size=14)\n",
    "ax2.set_title('Finite-Difference Method', size=14)\n",
    "\n",
    "plt.ion()   # set interective mode\n",
    "plt.show()"
   ]
  },
  {
   "cell_type": "code",
   "execution_count": 6,
   "id": "34c121c2-b30e-48fc-9bf3-06adccf607ae",
   "metadata": {},
   "outputs": [
    {
     "data": {
      "text/plain": [
       "<Figure size 640x480 with 0 Axes>"
      ]
     },
     "metadata": {},
     "output_type": "display_data"
    }
   ],
   "source": [
    "# Time extrapolation\n",
    "# ---------------------------------------------------------------\n",
    "for it in range(nt):\n",
    "   \n",
    "    # ----------------------------------------\n",
    "    # Fourier Pseudospectral Method\n",
    "    # ----------------------------------------\n",
    "    # 2nd space derivative\n",
    "    for j in np.arange(nz):           \n",
    "        sd2px[:,j] = fourier_derivative_2nd(sp[:,j].T, dx) \n",
    "    for i in np.arange(nx):           \n",
    "        sd2pz[i,:] = fourier_derivative_2nd(sp[i,:], dx)\n",
    "        \n",
    "    # Time Extrapolation\n",
    "    spnew = 2*sp - spold + c**2 * dt**2 * (sd2px + sd2pz)    \n",
    "    spnew = spnew + sg*src[it]*dt**2 # Add sources   \n",
    "    spold, sp = sp, spnew # Time levels\n",
    "    \n",
    "    # ----------------------------------------\n",
    "    # Finite Differences Method 5pt\n",
    "    # ----------------------------------------\n",
    "    for i in range(2, nz-2):\n",
    "        ad2px[i,:] = (-1./12*ap[i+2,:] + 4./3*ap[i+1,:] - 5./2*ap[i,:] \\\n",
    "                      + 4./3*ap[i-1,:] - 1./12*ap[i-2,:])/dx**2 # Space derivative \n",
    "    for i in range(2, nx-2):\n",
    "        ad2pz[:,i] = (-1./12*ap[:,i+2] + 4./3*ap[:,i+1] - 5./2*ap[:,i] \\\n",
    "                      + 4./3*ap[:,i-1] - 1./12*ap[:,i-2])/dx**2 # Space derivative \n",
    "        \n",
    "    apnew = 2*ap - apold + dt**2 * c**2 * (ad2px + ad2pz) # Time Extrapolation    \n",
    "    apnew = apnew + sg*src[it]*dt**2 # Add source    \n",
    "    apold, ap = ap, apnew # Time levels\n",
    "    \n",
    "    # Select Sections for plotting\n",
    "    sp_sec = -np.abs(sp[1:int(nx/2), 1:int(nz/2)])\n",
    "    ap_sec = -np.abs(ap[int(nx/2):nx, 1:int(nz/2)].T)\n",
    "    \n",
    "    # --------------------------------------  \n",
    "    # Animation plot. Display solution  \n",
    "    # --------------------------------------\n",
    "    if not it % iplot:                    \n",
    "        # Display Solution\n",
    "        # -------------------------------------- \n",
    "        line1 = ax1.imshow(sp_sec, interpolation=\"bicubic\", cmap=plt.cm.RdBu) \n",
    "        line2 = ax2.imshow(ap_sec, interpolation=\"bicubic\", cmap=plt.cm.RdBu)\n",
    "        plt.gcf().canvas.draw()\n",
    "     "
   ]
  },
  {
   "cell_type": "code",
   "execution_count": null,
   "id": "b77a2327-3ab1-453c-880b-8e0bbd6bc202",
   "metadata": {},
   "outputs": [],
   "source": []
  }
 ],
 "metadata": {
  "kernelspec": {
   "display_name": "Python 3 (ipykernel)",
   "language": "python",
   "name": "python3"
  },
  "language_info": {
   "codemirror_mode": {
    "name": "ipython",
    "version": 3
   },
   "file_extension": ".py",
   "mimetype": "text/x-python",
   "name": "python",
   "nbconvert_exporter": "python",
   "pygments_lexer": "ipython3",
   "version": "3.12.0"
  }
 },
 "nbformat": 4,
 "nbformat_minor": 5
}
